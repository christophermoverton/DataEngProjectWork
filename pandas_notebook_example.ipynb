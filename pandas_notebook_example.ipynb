{
 "cells": [
  {
   "cell_type": "code",
   "execution_count": 6,
   "metadata": {},
   "outputs": [],
   "source": [
    "import pandas as pd"
   ]
  },
  {
   "cell_type": "markdown",
   "metadata": {},
   "source": [
    "Let's import dummy_data.csv file in local directory into a pandas Dataframe object"
   ]
  },
  {
   "cell_type": "code",
   "execution_count": 7,
   "metadata": {},
   "outputs": [],
   "source": [
    "csv_file_path ='/home/christopher/Documents/interview_prep/dummy_data.csv'"
   ]
  },
  {
   "cell_type": "code",
   "execution_count": 8,
   "metadata": {},
   "outputs": [],
   "source": [
    "# Read the CSV file into a pandas DataFrame\n",
    "df = pd.read_csv(csv_file_path)"
   ]
  },
  {
   "cell_type": "code",
   "execution_count": 9,
   "metadata": {},
   "outputs": [
    {
     "name": "stdout",
     "output_type": "stream",
     "text": [
      "     ID        Name  Age   City   Country  Salary        Date\n",
      "0     1    Person_1   33  CityC  CountryY   32020  2023-06-18\n",
      "1     2    Person_2   27  CityA  CountryX   56033  2023-07-08\n",
      "2     3    Person_3   19  CityA  CountryX   60416  2023-09-16\n",
      "3     4    Person_4   49  CityD  CountryX   38983  2022-11-27\n",
      "4     5    Person_5   53  CityA  CountryY   58720  2023-09-22\n",
      "..  ...         ...  ...    ...       ...     ...         ...\n",
      "95   96   Person_96   34  CityB  CountryY   53957  2022-12-19\n",
      "96   97   Person_97   20  CityB  CountryZ   30594  2023-01-07\n",
      "97   98   Person_98   26  CityC  CountryZ   61115  2022-12-21\n",
      "98   99   Person_99   19  CityA  CountryZ   45357  2023-04-14\n",
      "99  100  Person_100   30  CityB  CountryZ   38802  2023-02-24\n",
      "\n",
      "[100 rows x 7 columns]\n"
     ]
    }
   ],
   "source": [
    "print(df)"
   ]
  },
  {
   "cell_type": "code",
   "execution_count": 13,
   "metadata": {},
   "outputs": [
    {
     "name": "stdout",
     "output_type": "stream",
     "text": [
      "City\n",
      "CityA    44440.000000\n",
      "CityB    42890.260870\n",
      "CityC    48878.047619\n",
      "CityD    48736.789474\n",
      "CityE    44285.062500\n",
      "Name: Salary, dtype: float64\n",
      "Country\n",
      "CountryX    47466.516129\n",
      "CountryY    46396.315789\n",
      "CountryZ    43425.580645\n",
      "Name: Salary, dtype: float64\n"
     ]
    }
   ],
   "source": [
    "df_avg_salary_by_city = df.groupby('City')['Salary'].mean()\n",
    "print(df_avg_salary_by_city)\n",
    "df_avg_salary_by_country = df.groupby('Country')['Salary'].mean()\n",
    "print(df_avg_salary_by_country)"
   ]
  }
 ],
 "metadata": {
  "kernelspec": {
   "display_name": "Python 3 (ipykernel)",
   "language": "python",
   "name": "python3"
  },
  "language_info": {
   "codemirror_mode": {
    "name": "ipython",
    "version": 3
   },
   "file_extension": ".py",
   "mimetype": "text/x-python",
   "name": "python",
   "nbconvert_exporter": "python",
   "pygments_lexer": "ipython3",
   "version": "3.11.6"
  }
 },
 "nbformat": 4,
 "nbformat_minor": 2
}
