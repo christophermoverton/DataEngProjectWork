{
 "cells": [
  {
   "cell_type": "code",
   "execution_count": 16,
   "metadata": {},
   "outputs": [],
   "source": [
    "import pandas as pd\n",
    "import logging"
   ]
  },
  {
   "cell_type": "markdown",
   "metadata": {},
   "source": [
    "This is an example ETL process using Python and Pandas Dataframe"
   ]
  },
  {
   "cell_type": "markdown",
   "metadata": {},
   "source": [
    "Setup Logger with Log file handling "
   ]
  },
  {
   "cell_type": "code",
   "execution_count": 17,
   "metadata": {},
   "outputs": [],
   "source": [
    "# Set up logging to console and file\n",
    "logging.basicConfig(level=logging.INFO, format='%(asctime)s - %(levelname)s - %(message)s')\n",
    "logger = logging.getLogger(__name__)\n",
    "\n",
    "# Add a file handler to save log messages to a file\n",
    "file_handler = logging.FileHandler('etl_log.log')\n",
    "file_handler.setLevel(logging.INFO)\n",
    "formatter = logging.Formatter('%(asctime)s - %(levelname)s - %(message)s')\n",
    "file_handler.setFormatter(formatter)\n",
    "logger.addHandler(file_handler)"
   ]
  },
  {
   "cell_type": "markdown",
   "metadata": {},
   "source": [
    "# Function to load data from CSV"
   ]
  },
  {
   "cell_type": "code",
   "execution_count": 18,
   "metadata": {},
   "outputs": [],
   "source": [
    "def extract(file_path):\n",
    "    logger.info(f\"Extracting data from CSV file: {file_path}\")\n",
    "    df = pd.read_csv(file_path)\n",
    "    return df"
   ]
  },
  {
   "cell_type": "markdown",
   "metadata": {},
   "source": [
    "# Function to clean and transform data"
   ]
  },
  {
   "cell_type": "code",
   "execution_count": 19,
   "metadata": {},
   "outputs": [],
   "source": [
    "def transform(data):\n",
    "    logger.info(\"Transforming and cleaning data\")\n",
    "    # Example: Convert 'Date' column to datetime format\n",
    "    data['Date'] = pd.to_datetime(data['Date'], errors='coerce')\n",
    "    # Clean duplicates based on specific columns ('ID' and 'Name')\n",
    "    cleaned_data = data.drop_duplicates(subset=['ID'])\n",
    "    return cleaned_data\n"
   ]
  },
  {
   "cell_type": "markdown",
   "metadata": {},
   "source": [
    "# Function to load data into destination (e.g., database)"
   ]
  },
  {
   "cell_type": "code",
   "execution_count": 20,
   "metadata": {},
   "outputs": [],
   "source": [
    "def load(data, destination_path):\n",
    "    logger.info(f\"Loading data into destination: {destination_path}\")\n",
    "    # Example: Save the cleaned data to a new CSV file\n",
    "    data.to_csv(destination_path, index=False)\n",
    "    logger.info(\"Data loaded successfully\")"
   ]
  },
  {
   "cell_type": "markdown",
   "metadata": {},
   "source": [
    "Set source and ETL file destination"
   ]
  },
  {
   "cell_type": "code",
   "execution_count": 21,
   "metadata": {},
   "outputs": [],
   "source": [
    "file_path = '/home/christopher/Documents/interview_prep/dummy_data.csv'\n",
    "destination_path = '/home/christopher/Documents/interview_prep/cleaned_dummy_data.csv'"
   ]
  },
  {
   "cell_type": "code",
   "execution_count": 22,
   "metadata": {},
   "outputs": [
    {
     "name": "stderr",
     "output_type": "stream",
     "text": [
      "2023-11-10 20:39:53,506 - INFO - Extracting data from CSV file: /home/christopher/Documents/interview_prep/dummy_data.csv\n",
      "2023-11-10 20:39:53,512 - INFO - Transforming and cleaning data\n",
      "2023-11-10 20:39:53,517 - INFO - Loading data into destination: /home/christopher/Documents/interview_prep/cleaned_dummy_data.csv\n",
      "2023-11-10 20:39:53,525 - INFO - Data loaded successfully\n"
     ]
    }
   ],
   "source": [
    "# ETL Process\n",
    "data = extract(file_path)\n",
    "cleaned_data = transform(data)\n",
    "load(cleaned_data, destination_path)"
   ]
  }
 ],
 "metadata": {
  "kernelspec": {
   "display_name": "Python 3 (ipykernel)",
   "language": "python",
   "name": "python3"
  },
  "language_info": {
   "codemirror_mode": {
    "name": "ipython",
    "version": 3
   },
   "file_extension": ".py",
   "mimetype": "text/x-python",
   "name": "python",
   "nbconvert_exporter": "python",
   "pygments_lexer": "ipython3",
   "version": "3.11.6"
  }
 },
 "nbformat": 4,
 "nbformat_minor": 2
}
